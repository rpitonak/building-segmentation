{
  "nbformat": 4,
  "nbformat_minor": 0,
  "metadata": {
    "colab": {
      "name": "pre-processing.ipynb",
      "provenance": [],
      "machine_shape": "hm",
      "include_colab_link": true
    },
    "kernelspec": {
      "name": "python3",
      "display_name": "Python 3"
    },
    "accelerator": "GPU"
  },
  "cells": [
    {
      "cell_type": "markdown",
      "metadata": {
        "id": "view-in-github",
        "colab_type": "text"
      },
      "source": [
        "<a href=\"https://colab.research.google.com/github/rpitonak/building-segmentation/blob/master/preprocessing.ipynb\" target=\"_parent\"><img src=\"https://colab.research.google.com/assets/colab-badge.svg\" alt=\"Open In Colab\"/></a>"
      ]
    },
    {
      "cell_type": "markdown",
      "metadata": {
        "id": "1YsGQJdrSmiZ",
        "colab_type": "text"
      },
      "source": [
        "# Open Cities AI Challenge: Segmenting Buildings for Disaster Resilience"
      ]
    },
    {
      "cell_type": "markdown",
      "metadata": {
        "id": "VEI5zSzUSq45",
        "colab_type": "text"
      },
      "source": [
        "This is my solution to [Open Cities AI Challenge: Segmenting Buildings for Disaster Resilience](https://www.drivendata.org/competitions/60/building-segmentation-disaster-resilience/page/150/)."
      ]
    },
    {
      "cell_type": "markdown",
      "metadata": {
        "id": "C5cINZqH9K4h",
        "colab_type": "text"
      },
      "source": [
        "Sources:\n",
        "\n",
        "1) How to prepare [patches of data for training](https://medium.com/@anthropoco/how-to-segment-buildings-on-drone-imagery-with-fast-ai-cloud-native-geodata-tools-ae249612c321).\n",
        "\n",
        "\n",
        "2) [Getting started guide](https://colab.research.google.com/drive/1Fv-80b1m-O-0p1g59NDzD82XdgurWlwa) from [johnowhitaker](https://community.drivendata.org/u/johnowhitaker/summary).\n",
        "\n",
        "3) [Fast.AI](https://docs.fast.ai/)\n",
        "\n",
        "Google colab notebook was bootstraped using [colab-bootstrap](https://github.com/zaitra/colab-bootstrap) by [Zaitra](https://zaitra.io).\n"
      ]
    },
    {
      "cell_type": "markdown",
      "metadata": {
        "id": "xUrx6cPcQ7bh",
        "colab_type": "text"
      },
      "source": [
        "# Install python packages"
      ]
    },
    {
      "cell_type": "code",
      "metadata": {
        "id": "x5PokoW_d6RW",
        "colab_type": "code",
        "colab": {}
      },
      "source": [
        "!add-apt-repository ppa:ubuntugis/ubuntugis-unstable -y\n",
        "!apt-get update\n",
        "!apt-get install python-numpy gdal-bin libgdal-dev python3-rtree"
      ],
      "execution_count": 0,
      "outputs": []
    },
    {
      "cell_type": "code",
      "metadata": {
        "id": "rQ1V1l_MQ_r1",
        "colab_type": "code",
        "colab": {}
      },
      "source": [
        "!pip3 install geopandas pillow rasterio descartes solaris rio-tiler pystac"
      ],
      "execution_count": 0,
      "outputs": []
    },
    {
      "cell_type": "markdown",
      "metadata": {
        "id": "yNFmYOhrRR2w",
        "colab_type": "text"
      },
      "source": [
        "# Imports"
      ]
    },
    {
      "cell_type": "code",
      "metadata": {
        "id": "qv6IXLjgRTQz",
        "colab_type": "code",
        "colab": {}
      },
      "source": [
        "# Jupyter notebook related\n",
        "%reload_ext autoreload\n",
        "%autoreload 2\n",
        "%matplotlib inline\n",
        "\n",
        "# Built-in modules\n",
        "import sys\n",
        "import os\n",
        "import datetime\n",
        "from enum import Enum\n",
        "from pathlib import Path\n",
        "\n",
        "\n",
        "#import solaris as sol\n",
        "# Basics of Python data handling and visualization\n",
        "import skimage\n",
        "import numpy as np\n",
        "import matplotlib.pyplot as plt\n",
        "import pandas as pd\n",
        "import geopandas as gpd\n",
        "\n",
        "import rasterio\n",
        "from rasterio.transform import from_bounds\n",
        "from rasterio.windows import Window\n",
        "from rio_tiler import main as rt_main\n",
        "\n",
        "from shapely.geometry import Polygon\n",
        "from shapely.ops import cascaded_union\n",
        "\n",
        "from pystac import Catalog, CatalogType, Item, Asset, LabelItem, Collection\n",
        "from tqdm import tqdm"
      ],
      "execution_count": 0,
      "outputs": []
    },
    {
      "cell_type": "markdown",
      "metadata": {
        "id": "xJlzffQhRJLl",
        "colab_type": "text"
      },
      "source": [
        "# Google drive\n",
        "\n",
        "Mount google drive folder with data to machine provided by google collab."
      ]
    },
    {
      "cell_type": "code",
      "metadata": {
        "id": "VCKgvjZERVWZ",
        "colab_type": "code",
        "outputId": "4c791cb7-05e3-4117-92e4-5acb3bf74d83",
        "colab": {
          "base_uri": "https://localhost:8080/",
          "height": 124
        }
      },
      "source": [
        "import os\n",
        "\n",
        "from google.colab import drive\n",
        "from pathlib import Path\n",
        "\n",
        "drive.mount('/content/gdrive')\n",
        "\n",
        "GOOGLE_DRIVE_PATH = Path('/content/gdrive/My Drive')\n",
        "WORKDIR = 'segmentation' # specify the path to folder which you are intend to work with in this notebook\n",
        "WORKDIR_PATH = GOOGLE_DRIVE_PATH / WORKDIR\n",
        "\n",
        "if not os.path.exists(WORKDIR_PATH):\n",
        "          os.mkdir(WORKDIR_PATH)"
      ],
      "execution_count": 0,
      "outputs": [
        {
          "output_type": "stream",
          "text": [
            "Go to this URL in a browser: https://accounts.google.com/o/oauth2/auth?client_id=947318989803-6bn6qk8qdgf4n4g3pfee6491hc0brc4i.apps.googleusercontent.com&redirect_uri=urn%3aietf%3awg%3aoauth%3a2.0%3aoob&response_type=code&scope=email%20https%3a%2f%2fwww.googleapis.com%2fauth%2fdocs.test%20https%3a%2f%2fwww.googleapis.com%2fauth%2fdrive%20https%3a%2f%2fwww.googleapis.com%2fauth%2fdrive.photos.readonly%20https%3a%2f%2fwww.googleapis.com%2fauth%2fpeopleapi.readonly\n",
            "\n",
            "Enter your authorization code:\n",
            "··········\n",
            "Mounted at /content/gdrive\n"
          ],
          "name": "stdout"
        }
      ]
    },
    {
      "cell_type": "markdown",
      "metadata": {
        "id": "DnEjc56oeDt8",
        "colab_type": "text"
      },
      "source": [
        "## Download and unzip the dataset."
      ]
    },
    {
      "cell_type": "markdown",
      "metadata": {
        "id": "vR59f1lR_1-Q",
        "colab_type": "text"
      },
      "source": [
        "Training data"
      ]
    },
    {
      "cell_type": "code",
      "metadata": {
        "id": "cjZMrBXhTTaC",
        "colab_type": "code",
        "colab": {}
      },
      "source": [
        "!curl https://drivendata-public-assets.s3.amazonaws.com/train_tier_1.tgz | tar -xz  -C \"/content/gdrive/My Drive/segmentation/data\""
      ],
      "execution_count": 0,
      "outputs": []
    },
    {
      "cell_type": "markdown",
      "metadata": {
        "id": "I_hgULw1_3Yo",
        "colab_type": "text"
      },
      "source": [
        "Testing data"
      ]
    },
    {
      "cell_type": "code",
      "metadata": {
        "id": "rJXLuFz4yluk",
        "colab_type": "code",
        "colab": {}
      },
      "source": [
        "!curl https://drivendata-public-assets.s3.amazonaws.com/test.tgz | tar -xz  -C \"/content/gdrive/My Drive/segmentation/data\""
      ],
      "execution_count": 0,
      "outputs": []
    },
    {
      "cell_type": "markdown",
      "metadata": {
        "id": "A07U18MwHCnb",
        "colab_type": "text"
      },
      "source": [
        "Set the paths"
      ]
    },
    {
      "cell_type": "code",
      "metadata": {
        "id": "I4TGtTJveco8",
        "colab_type": "code",
        "colab": {}
      },
      "source": [
        "IMG_PATH = WORKDIR_PATH /'images-256'\n",
        "MASK_PATH = WORKDIR_PATH /'masks-256'\n",
        "IMG_PATH.mkdir(exist_ok=True)\n",
        "MASK_PATH.mkdir(exist_ok=True)"
      ],
      "execution_count": 0,
      "outputs": []
    },
    {
      "cell_type": "markdown",
      "metadata": {
        "id": "2Ho4nEZ4HySI",
        "colab_type": "text"
      },
      "source": [
        "Load our training catalog"
      ]
    },
    {
      "cell_type": "code",
      "metadata": {
        "id": "ThvPjeusmKpx",
        "colab_type": "code",
        "outputId": "dd895c57-eaf4-4e53-da6f-f620e9abf942",
        "colab": {
          "base_uri": "https://localhost:8080/",
          "height": 138
        }
      },
      "source": [
        "train1_catalog = Catalog.from_file('/content/gdrive/My Drive/segmentation/data/train_tier_1/catalog.json')\n",
        "cols = {cols.id:cols for cols in train1_catalog.get_children()}\n",
        "cols"
      ],
      "execution_count": 0,
      "outputs": [
        {
          "output_type": "execute_result",
          "data": {
            "text/plain": [
              "{'acc': <Collection id=acc>,\n",
              " 'dar': <Collection id=dar>,\n",
              " 'kam': <Collection id=kam>,\n",
              " 'mon': <Collection id=mon>,\n",
              " 'nia': <Collection id=nia>,\n",
              " 'ptn': <Collection id=ptn>,\n",
              " 'znz': <Collection id=znz>}"
            ]
          },
          "metadata": {
            "tags": []
          },
          "execution_count": 10
        }
      ]
    },
    {
      "cell_type": "markdown",
      "metadata": {
        "id": "Flqv7RLPHrYh",
        "colab_type": "text"
      },
      "source": [
        "Get a list of the possible areas(scenes) and ids"
      ]
    },
    {
      "cell_type": "code",
      "metadata": {
        "id": "-McCsN75mlcR",
        "colab_type": "code",
        "outputId": "06013755-0cf7-4e3c-c633-5be5bb232c2f",
        "colab": {
          "base_uri": "https://localhost:8080/",
          "height": 553
        }
      },
      "source": [
        "areas = []\n",
        "for c in cols:\n",
        "  itms = [x for x in cols[c].get_all_items()]\n",
        "  for i, id in enumerate(itms):\n",
        "    if i % 2 == 0 and i+1 < len(itms):\n",
        "      areas.append((c, itms[i].id, itms[i+1].id))\n",
        "areas"
      ],
      "execution_count": 0,
      "outputs": [
        {
          "output_type": "execute_result",
          "data": {
            "text/plain": [
              "[('acc', '665946', '665946-labels'),\n",
              " ('acc', 'a42435', 'a42435-labels'),\n",
              " ('acc', 'ca041a', 'ca041a-labels'),\n",
              " ('acc', 'd41d81', 'd41d81-labels'),\n",
              " ('mon', '401175', '401175-labels'),\n",
              " ('mon', '493701', '493701-labels'),\n",
              " ('mon', '207cc7', '207cc7-labels'),\n",
              " ('mon', 'f15272', 'f15272-labels'),\n",
              " ('ptn', 'abe1a3', 'abe1a3-labels'),\n",
              " ('ptn', 'f49f31', 'f49f31-labels'),\n",
              " ('kam', '4e7c7f', '4e7c7f-labels'),\n",
              " ('dar', 'a017f9', 'a017f9-labels'),\n",
              " ('dar', 'b15fce', 'b15fce-labels'),\n",
              " ('dar', '353093', '353093-labels'),\n",
              " ('dar', 'f883a0', 'f883a0-labels'),\n",
              " ('dar', '42f235', '42f235-labels'),\n",
              " ('dar', '0a4c40', '0a4c40-labels'),\n",
              " ('znz', '33cae6', '33cae6-labels'),\n",
              " ('znz', '3b20d4', '3b20d4-labels'),\n",
              " ('znz', '076995', '076995-labels'),\n",
              " ('znz', '75cdfa', '75cdfa-labels'),\n",
              " ('znz', '9b8638', '9b8638-labels'),\n",
              " ('znz', '06f252', '06f252-labels'),\n",
              " ('znz', 'c7415c', 'c7415c-labels'),\n",
              " ('znz', 'aee7fd', 'aee7fd-labels'),\n",
              " ('znz', '3f8360', '3f8360-labels'),\n",
              " ('znz', '425403', '425403-labels'),\n",
              " ('znz', 'bd5c14', 'bd5c14-labels'),\n",
              " ('znz', 'e52478', 'e52478-labels'),\n",
              " ('znz', 'bc32f1', 'bc32f1-labels'),\n",
              " ('nia', '825a50', '825a50-labels')]"
            ]
          },
          "metadata": {
            "tags": []
          },
          "execution_count": 11
        }
      ]
    },
    {
      "cell_type": "markdown",
      "metadata": {
        "id": "HTxRUlljIr-X",
        "colab_type": "text"
      },
      "source": [
        "# Split the STAC into tiles.\n",
        "\n",
        "In this step we want to split the STAC file into images and masks of maller size (256px)"
      ]
    },
    {
      "cell_type": "markdown",
      "metadata": {
        "id": "6p4VwU7sIpHf",
        "colab_type": "text"
      },
      "source": [
        "Define function for saving images"
      ]
    },
    {
      "cell_type": "code",
      "metadata": {
        "id": "X6V7hGHqHLJF",
        "colab_type": "code",
        "colab": {}
      },
      "source": [
        "def save_tile_img(tif_url, xyz, tile_size, save_path='', prefix=''):\n",
        "  x,y,z = xyz\n",
        "  tile, mask = rt_main.tile(tif_url, x,y,z, tilesize=tile_size)\n",
        "  skimage.io.imsave(f'{save_path}/{prefix}{z}_{x}_{y}.png', np.moveaxis(tile,0,2), check_contrast=False) "
      ],
      "execution_count": 0,
      "outputs": []
    },
    {
      "cell_type": "markdown",
      "metadata": {
        "id": "BJplvLE-I4NG",
        "colab_type": "text"
      },
      "source": [
        "Define function for saving masks."
      ]
    },
    {
      "cell_type": "code",
      "metadata": {
        "id": "YFM2c8wtIVlh",
        "colab_type": "code",
        "colab": {}
      },
      "source": [
        "def save_tile_mask(labels_poly, tile_poly, xyz, tile_size, save_path='', prefix='', greyscale=True):\n",
        "  x,y,z = xyz\n",
        "  tfm = from_bounds(*tile_poly.bounds, tile_size, tile_size) \n",
        "  \n",
        "  cropped_polys = [poly for poly in labels_poly if poly.intersects(tile_poly)]\n",
        "  cropped_polys_gdf = gpd.GeoDataFrame(geometry=cropped_polys, crs='epsg:4326')\n",
        "  \n",
        "  fbc_mask = sol.vector.mask.df_to_px_mask(df=cropped_polys_gdf,\n",
        "                                         channels=['footprint', 'boundary', 'contact'],\n",
        "                                         affine_obj=tfm, shape=(tile_size,tile_size),\n",
        "                                         boundary_width=5, boundary_type='inner', contact_spacing=5, meters=True)\n",
        "  \n",
        "  if greyscale:\n",
        "    skimage.io.imsave(f'{save_path}/{prefix}{z}_{x}_{y}_mask.png',fbc_mask[:,:,0], check_contrast=False) \n",
        "  else:\n",
        "    skimage.io.imsave(f'{save_path}/{prefix}{z}_{x}_{y}_mask.png',fbc_mask, check_contrast=False)"
      ],
      "execution_count": 0,
      "outputs": []
    },
    {
      "cell_type": "markdown",
      "metadata": {
        "id": "TPR1EKqTI-_2",
        "colab_type": "text"
      },
      "source": [
        "Define function for splitting the STAC for whole area"
      ]
    },
    {
      "cell_type": "code",
      "metadata": {
        "id": "AE3QO-HvIhNC",
        "colab_type": "code",
        "colab": {}
      },
      "source": [
        "def save_area_id_images(area, img_id, label_id, zoom_level = 19, tile_size = 256):\n",
        "\n",
        "  # The item\n",
        "  one_item = cols[area].get_item(id=img_id)\n",
        "\n",
        "  # Load labels shapefile\n",
        "  lab = cols[area].get_item(id=label_id)\n",
        "  gdf = gpd.read_file(lab.make_asset_hrefs_absolute().assets['labels'].href)\n",
        "  # get the geometries from the geodataframe\n",
        "  all_polys = gdf.geometry\n",
        "\n",
        "  # Get outlines as polygons\n",
        "  polygon_geom = Polygon(one_item.to_dict()['geometry']['coordinates'][0])\n",
        "  polygon = gpd.GeoDataFrame(index=[0], crs=gdf.crs, geometry=[polygon_geom])   \n",
        "\n",
        "  # Tile at zoom_level\n",
        "  polygon['geometry'].to_file(img_id+'.geojson', driver='GeoJSON')\n",
        "  !cat {img_id}.geojson | supermercado burn {zoom_level} | mercantile shapes | fio collect > {img_id}{zoom_level}tiles.geojson\n",
        "\n",
        "  # Load tiles\n",
        "  tiles = gpd.read_file(f'{img_id}{zoom_level}tiles.geojson')\n",
        "\n",
        "  # Add a convenience column\n",
        "  tiles['xyz'] = tiles.id.apply(lambda x: x.lstrip('(,)').rstrip('(,)').split(','))\n",
        "  tiles['xyz'] = [[int(q) for q in p] for p in tiles['xyz']]\n",
        "\n",
        "  # IMG URL\n",
        "  tif_url = one_item.assets['image'].href\n",
        "\n",
        "  # Sometimes it's just ./id.tif - add full path (should maybe use make_asset_hrefs_absolute instead!!)\n",
        "  if tif_url.startswith(\"./\"):\n",
        "    tif_url = '/'.join(one_item.to_dict()['links'][1]['href'].split(\"/\")[:-1])+tif_url[1:]\n",
        "\n",
        "  print(\"TIF URL:\", tif_url)\n",
        "\n",
        "  print(\"Number of tiles:\", len(tiles))\n",
        "\n",
        "  # Loop through tiles, downloading and saving\n",
        "  for idx in range(len(tiles)):\n",
        "    tile, mask = rt_main.tile(tif_url, *tiles.iloc[idx]['xyz'], tilesize=tile_size)\n",
        "\n",
        "    tile_poly = tiles.iloc[idx]['geometry']\n",
        "\n",
        "    # get affine transformation matrix for this tile using rasterio.transform.from_bounds: https://rasterio.readthedocs.io/en/stable/api/rasterio.transform.html#rasterio.transform.from_bounds\n",
        "    tfm = from_bounds(*tile_poly.bounds, tile_size, tile_size) \n",
        "\n",
        "    # crop geometries to what overlaps our tile polygon bounds\n",
        "    cropped_polys = [poly for poly in all_polys if poly.intersects(tile_poly)]\n",
        "    cropped_polys_gdf = gpd.GeoDataFrame(geometry=cropped_polys, crs='epsg:4326')\n",
        "\n",
        "    # burn a footprint/boundary/contact 3-channel mask with solaris: https://solaris.readthedocs.io/en/latest/tutorials/notebooks/api_masks_tutorial.html\n",
        "    fbc_mask = sol.vector.mask.df_to_px_mask(df=cropped_polys_gdf,\n",
        "                                            channels=['footprint', 'boundary', 'contact'],\n",
        "                                            affine_obj=tfm, shape=(tile_size,tile_size),\n",
        "                                            boundary_width=5, boundary_type='inner', contact_spacing=5, meters=True)\n",
        "\n",
        "    save_tile_img(tif_url, tiles.iloc[idx]['xyz'], tile_size, save_path=IMG_PATH, prefix=f'{area}_{img_id}_{idx}_')\n",
        "    save_tile_mask(all_polys, tile_poly, tiles.iloc[idx]['xyz'], tile_size, save_path=MASK_PATH,prefix=f'{area}_{img_id}_{idx}_')\n",
        "    print(\"Saved\", f'{area}_{img_id}_{idx}_')"
      ],
      "execution_count": 0,
      "outputs": []
    },
    {
      "cell_type": "markdown",
      "metadata": {
        "id": "j9viXyqAkuJR",
        "colab_type": "text"
      },
      "source": [
        "Actually create tiles"
      ]
    },
    {
      "cell_type": "code",
      "metadata": {
        "id": "aeyavNnQJZpp",
        "colab_type": "code",
        "colab": {}
      },
      "source": [
        "for a in areas:\n",
        "  save_area_id_images(area = a[0], img_id = a[1], label_id=a[2], zoom_level = 19, tile_size = 256)"
      ],
      "execution_count": 0,
      "outputs": []
    },
    {
      "cell_type": "markdown",
      "metadata": {
        "id": "DLRXh4TIeojr",
        "colab_type": "text"
      },
      "source": [
        "After this step we should have data prepared for the training. "
      ]
    }
  ]
}